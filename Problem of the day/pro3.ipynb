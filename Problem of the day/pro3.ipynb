{
 "cells": [
  {
   "cell_type": "code",
   "execution_count": null,
   "id": "bad02b72",
   "metadata": {},
   "outputs": [],
   "source": [
    "#Mohammed wants to find out if the person he was talking to online was a girl or a boy b\n",
    "#by their username by this method:\n",
    "#characters in the thier username is single (user is boy) otherwise it is a girl"
   ]
  },
  {
   "cell_type": "code",
   "execution_count": 1,
   "id": "a277d559",
   "metadata": {},
   "outputs": [
    {
     "name": "stdout",
     "output_type": "stream",
     "text": [
      "Enter username: Alix\n",
      "The username is:  'Alix' and the gender is: <function gender at 0x0000016B9236E3E0>\n"
     ]
    }
   ],
   "source": [
    "def genderr(username):\n",
    "    num = len(username)\n",
    "    if num % 2 == 1:\n",
    "        return \"Boy\"\n",
    "    else:\n",
    "        return \"Girl\"\n",
    "\n",
    "username = input(\"Enter username: \")\n",
    "\n",
    "\n",
    "x = gender(username)\n",
    "print(f\"The username is:  '{username}' and the gender is: {gender}\")"
   ]
  }
 ],
 "metadata": {
  "kernelspec": {
   "display_name": "Python 3 (ipykernel)",
   "language": "python",
   "name": "python3"
  },
  "language_info": {
   "codemirror_mode": {
    "name": "ipython",
    "version": 3
   },
   "file_extension": ".py",
   "mimetype": "text/x-python",
   "name": "python",
   "nbconvert_exporter": "python",
   "pygments_lexer": "ipython3",
   "version": "3.11.4"
  }
 },
 "nbformat": 4,
 "nbformat_minor": 5
}
