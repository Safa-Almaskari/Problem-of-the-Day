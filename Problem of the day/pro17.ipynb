{
 "cells": [
  {
   "cell_type": "code",
   "execution_count": null,
   "id": "282e6dcb",
   "metadata": {},
   "outputs": [],
   "source": [
    "'''\n",
    "Find the shortest path:\n",
    "Center: A0\n",
    "input:\n",
    "Spider vs Fly('H3','E2')\n",
    "Spider vs Fly('A4','B2')\n",
    "Spider vs Fly('A3','C2')\n",
    "Output:\n",
    "'H3-H2-H1-A0-E1-E2'\n",
    "'A4-A3-A2-B2'\n",
    "'A4-A3-A2-B2-C2'\n",
    "'''"
   ]
  },
  {
   "cell_type": "code",
   "execution_count": 2,
   "id": "b51b5ccd",
   "metadata": {},
   "outputs": [
    {
     "name": "stdout",
     "output_type": "stream",
     "text": [
      "first path:  G2-F-E\n",
      "Second path B3-2\n",
      "third path B2-C\n"
     ]
    }
   ],
   "source": [
    "def spider_vs_fly(spider, fly):\n",
    "    spider_x, spider_y = ord(spider[0]) - ord('A'), int(spider[1])\n",
    "    fly_x, fly_y = ord(fly[0]) - ord('A'), int(fly[1])\n",
    "    \n",
    "    path = []\n",
    "    \n",
    "    while spider_x != fly_x or spider_y != fly_y:\n",
    "        move_x = ''\n",
    "        move_y = ''\n",
    "        \n",
    "        if spider_x < fly_x:\n",
    "            move_x = chr(spider_x + ord('A') + 1)\n",
    "            spider_x += 1\n",
    "        elif spider_x > fly_x:\n",
    "            move_x = chr(spider_x + ord('A') - 1)\n",
    "            spider_x -= 1\n",
    "        \n",
    "        if spider_y < fly_y:\n",
    "            move_y = str(spider_y + 1)\n",
    "            spider_y += 1\n",
    "        elif spider_y > fly_y:\n",
    "            move_y = str(spider_y - 1)\n",
    "            spider_y -= 1\n",
    "        \n",
    "        move = move_x + move_y\n",
    "        path.append(move)\n",
    "    \n",
    "    return '-'.join(path)\n",
    "\n",
    "path1 = spider_vs_fly('H3', 'E2')\n",
    "path2 = spider_vs_fly('A4', 'B2')\n",
    "path3 = spider_vs_fly('A3', 'C2')\n",
    "\n",
    "print('first path: ',path1)\n",
    "print('Second path',path2)\n",
    "print('third path',path3)"
   ]
  }
 ],
 "metadata": {
  "kernelspec": {
   "display_name": "Python 3 (ipykernel)",
   "language": "python",
   "name": "python3"
  },
  "language_info": {
   "codemirror_mode": {
    "name": "ipython",
    "version": 3
   },
   "file_extension": ".py",
   "mimetype": "text/x-python",
   "name": "python",
   "nbconvert_exporter": "python",
   "pygments_lexer": "ipython3",
   "version": "3.11.4"
  }
 },
 "nbformat": 4,
 "nbformat_minor": 5
}
