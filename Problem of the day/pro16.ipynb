{
 "cells": [
  {
   "cell_type": "code",
   "execution_count": null,
   "id": "5a1764c2",
   "metadata": {},
   "outputs": [],
   "source": [
    "'''\n",
    "Given a string S, return the first non repeating character \n",
    "if there is no non-repeating character return $\n",
    "\n",
    "input:\n",
    "s='hello'\n",
    "output:\n",
    "h\n",
    "'''"
   ]
  },
  {
   "cell_type": "code",
   "execution_count": 3,
   "id": "84a448ab",
   "metadata": {},
   "outputs": [
    {
     "name": "stdout",
     "output_type": "stream",
     "text": [
      "The results are:  h\n"
     ]
    }
   ],
   "source": [
    "def non_repeating(s):\n",
    "    char_count = {}\n",
    "    \n",
    "    for char in s:\n",
    "        if char in char_count:\n",
    "            char_count[char] += 1\n",
    "        else:\n",
    "            char_count[char] = 1\n",
    "    \n",
    "    for char in s:\n",
    "        if char_count[char] == 1:\n",
    "            return char\n",
    "    \n",
    "    return '$'\n",
    "\n",
    "s = 'hello'\n",
    "result = first_non_repeating_character(s)\n",
    "print('The results are: ', result)"
   ]
  }
 ],
 "metadata": {
  "kernelspec": {
   "display_name": "Python 3 (ipykernel)",
   "language": "python",
   "name": "python3"
  },
  "language_info": {
   "codemirror_mode": {
    "name": "ipython",
    "version": 3
   },
   "file_extension": ".py",
   "mimetype": "text/x-python",
   "name": "python",
   "nbconvert_exporter": "python",
   "pygments_lexer": "ipython3",
   "version": "3.11.4"
  }
 },
 "nbformat": 4,
 "nbformat_minor": 5
}
