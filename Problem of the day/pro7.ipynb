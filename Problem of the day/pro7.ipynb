{
 "cells": [
  {
   "cell_type": "code",
   "execution_count": null,
   "id": "5102ecd0",
   "metadata": {},
   "outputs": [],
   "source": [
    "#given an array arr[] containg positive elements A and B are two numbers\n",
    "#defining arange. the task is to check \n",
    "#if the array contains all elements in the given range\n",
    "#input = N=7 A=2 B=5\n",
    "#arr[]={1,4,5,2,7,8,3}\n",
    "#output yes\n",
    "#explanation: it has elements between range 2.5"
   ]
  },
  {
   "cell_type": "code",
   "execution_count": null,
   "id": "9dd8781c",
   "metadata": {},
   "outputs": [],
   "source": [
    "x = int(input(\"Enter number of elements in the array: \"))\n",
    "y = int(input(\"Enter number range of A: \"))\n",
    "z = int(input(\"Enter number range of B: \"))\n",
    "\n",
    "# Take input for the array elements\n",
    "arr = []\n",
    "for i in range(x):\n",
    "    element = int(input(f\"Enter element {i + 1}: \"))\n",
    "    arr.append(element)\n",
    "\n",
    "\n",
    "# Determine and print the output\n",
    "if all_in_range:\n",
    "    print(\"Yes\")\n",
    "else:\n",
    "    print(\"No\")"
   ]
  }
 ],
 "metadata": {
  "kernelspec": {
   "display_name": "Python 3 (ipykernel)",
   "language": "python",
   "name": "python3"
  },
  "language_info": {
   "codemirror_mode": {
    "name": "ipython",
    "version": 3
   },
   "file_extension": ".py",
   "mimetype": "text/x-python",
   "name": "python",
   "nbconvert_exporter": "python",
   "pygments_lexer": "ipython3",
   "version": "3.11.4"
  }
 },
 "nbformat": 4,
 "nbformat_minor": 5
}
