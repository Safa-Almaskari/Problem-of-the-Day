{
 "cells": [
  {
   "cell_type": "code",
   "execution_count": null,
   "id": "aa5c0d9e",
   "metadata": {},
   "outputs": [],
   "source": [
    "#given a string S the task is to count the number of substrings \n",
    "#which contains equal numbers of lowercase and uppercase letters\n",
    "#input: s =\"WomensDay\"\n",
    "#output: \"There are 3 substring the condition "
   ]
  },
  {
   "cell_type": "code",
   "execution_count": 2,
   "id": "f9e7df96",
   "metadata": {},
   "outputs": [
    {
     "name": "stdout",
     "output_type": "stream",
     "text": [
      "There are 3 substring the condition:  3\n"
     ]
    }
   ],
   "source": [
    "def count_substrings(s):\n",
    "    n = len(s)\n",
    "    count = 0\n",
    "\n",
    "    for start in range(n):\n",
    "        lower_count = 0\n",
    "        upper_count = 0\n",
    "\n",
    "        for end in range(start, n):\n",
    "            if s[end].islower():\n",
    "                lower_count += 1\n",
    "            else:\n",
    "                upper_count += 1\n",
    "\n",
    "            if lower_count == upper_count:\n",
    "                count += 1\n",
    "\n",
    "    return count\n",
    "\n",
    "\n",
    "s = \"WomensDay\"\n",
    "result = count_substrings(s)\n",
    "print('There are 3 substring the condition: ', result)  "
   ]
  }
 ],
 "metadata": {
  "kernelspec": {
   "display_name": "Python 3 (ipykernel)",
   "language": "python",
   "name": "python3"
  },
  "language_info": {
   "codemirror_mode": {
    "name": "ipython",
    "version": 3
   },
   "file_extension": ".py",
   "mimetype": "text/x-python",
   "name": "python",
   "nbconvert_exporter": "python",
   "pygments_lexer": "ipython3",
   "version": "3.11.4"
  }
 },
 "nbformat": 4,
 "nbformat_minor": 5
}
