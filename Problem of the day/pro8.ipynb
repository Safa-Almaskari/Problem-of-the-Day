{
 "cells": [
  {
   "cell_type": "code",
   "execution_count": null,
   "id": "aa5c0d9e",
   "metadata": {},
   "outputs": [],
   "source": [
    "#given a string S the task is to count the number of substrings \n",
    "#which contains equalk numbers of lowercase and uppercase letters\n",
    "#input: s =\"WomensDay\"\n",
    "#output: \"There are 4 substring the condition "
   ]
  }
 ],
 "metadata": {
  "kernelspec": {
   "display_name": "Python 3 (ipykernel)",
   "language": "python",
   "name": "python3"
  },
  "language_info": {
   "codemirror_mode": {
    "name": "ipython",
    "version": 3
   },
   "file_extension": ".py",
   "mimetype": "text/x-python",
   "name": "python",
   "nbconvert_exporter": "python",
   "pygments_lexer": "ipython3",
   "version": "3.11.4"
  }
 },
 "nbformat": 4,
 "nbformat_minor": 5
}
