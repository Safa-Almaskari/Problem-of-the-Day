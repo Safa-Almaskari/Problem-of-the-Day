{
 "cells": [
  {
   "cell_type": "code",
   "execution_count": null,
   "id": "ee4ddc3f",
   "metadata": {},
   "outputs": [],
   "source": [
    "'''\n",
    "Given an unsorted array ARR of N positive and negative numbers \n",
    "your task is to create an array of alternate positive & negative numbers \n",
    "without changing the relative order of positive and negative numbers \n",
    "'''"
   ]
  },
  {
   "cell_type": "code",
   "execution_count": null,
   "id": "49307a9c",
   "metadata": {},
   "outputs": [],
   "source": [
    "def unsorted(arr):\n",
    "    positive = [num for num in arr if num > 0]\n",
    "    negative = [num for num in arr if num < 0]\n",
    "\n",
    "    return positive, negative\n",
    "\n",
    "arr = [9, 4, -2, -1, 5, 0, -5, 3, 2]\n",
    "positive_nums, negative_nums = unsorted(arr)\n",
    "\n",
    "print(\"The Positive Numbers  are:\", positive_nums)\n",
    "print(\"The Negative Numbers are:\", negative_nums)"
   ]
  }
 ],
 "metadata": {
  "kernelspec": {
   "display_name": "Python 3 (ipykernel)",
   "language": "python",
   "name": "python3"
  },
  "language_info": {
   "codemirror_mode": {
    "name": "ipython",
    "version": 3
   },
   "file_extension": ".py",
   "mimetype": "text/x-python",
   "name": "python",
   "nbconvert_exporter": "python",
   "pygments_lexer": "ipython3",
   "version": "3.11.4"
  }
 },
 "nbformat": 4,
 "nbformat_minor": 5
}
