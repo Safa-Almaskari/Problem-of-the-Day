{
 "cells": [
  {
   "cell_type": "code",
   "execution_count": null,
   "id": "4f58ac55",
   "metadata": {},
   "outputs": [],
   "source": [
    "#if chef rolls a 3(x=3) and chefina rolls a 2(y=2)\n",
    "#then the sum is 3+2=5 which is less than 6\n",
    "#thus the turn is not a good turn\n",
    "\n",
    "#the sum of numbers on the dice is x=3 y=4 3+4=7 \n",
    "#which is greater than 6 thus the turn is good"
   ]
  },
  {
   "cell_type": "code",
   "execution_count": 1,
   "id": "10e923a6",
   "metadata": {},
   "outputs": [
    {
     "name": "stdout",
     "output_type": "stream",
     "text": [
      "Enter Chef's value: 4\n",
      "Enter Chefina's value: 4\n",
      "Great turn\n"
     ]
    }
   ],
   "source": [
    "x = int(input(\"Enter Chef's value: \"))\n",
    "y = int(input(\"Enter Chefina's value: \"))\n",
    "\n",
    "values = x + y\n",
    "\n",
    "if values > 6:\n",
    "    print(\"Great turn\")\n",
    "else:\n",
    "    print(\"bad turn\")"
   ]
  }
 ],
 "metadata": {
  "kernelspec": {
   "display_name": "Python 3 (ipykernel)",
   "language": "python",
   "name": "python3"
  },
  "language_info": {
   "codemirror_mode": {
    "name": "ipython",
    "version": 3
   },
   "file_extension": ".py",
   "mimetype": "text/x-python",
   "name": "python",
   "nbconvert_exporter": "python",
   "pygments_lexer": "ipython3",
   "version": "3.11.4"
  }
 },
 "nbformat": 4,
 "nbformat_minor": 5
}
