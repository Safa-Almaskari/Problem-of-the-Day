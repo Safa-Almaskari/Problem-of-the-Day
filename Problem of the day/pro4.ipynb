{
 "cells": [
  {
   "cell_type": "code",
   "execution_count": null,
   "id": "bcb38db6",
   "metadata": {},
   "outputs": [],
   "source": [
    "#Given a list of N fractions represented as two lists numerator and denominator\n",
    "#the task is to determine the count of pairs of functions\n",
    "#whose sum equals 1\n"
   ]
  },
  {
   "cell_type": "code",
   "execution_count": 1,
   "id": "d04280cb",
   "metadata": {},
   "outputs": [
    {
     "name": "stdout",
     "output_type": "stream",
     "text": [
      "0\n"
     ]
    }
   ],
   "source": [
    "def count_pairs(numerator, denominator):\n",
    "    n = len(numerator)\n",
    "    x = {}\n",
    "    total_pairs = 0\n",
    "\n",
    "    for i in range(n):\n",
    "        value = numerator[i] / denominator[i]\n",
    "        if value in x:\n",
    "            x[value] += 1\n",
    "        else:\n",
    "            x[value] = 1\n",
    "\n",
    "    for i in range(n):\n",
    "        y = 1 - (numerator[i] / denominator[i])\n",
    "        if y in x:\n",
    "            total_pairs += x[y]\n",
    "\n",
    "    return total_pairs // 2  \n",
    "\n",
    "# input\n",
    "numerator = [1, 2, 3, 4, 5]\n",
    "denominator = [6, 3, 4, 12, 15]\n",
    "#Output\n",
    "result = count_pairs(numerator, denominator)\n",
    "print(result)  "
   ]
  }
 ],
 "metadata": {
  "kernelspec": {
   "display_name": "Python 3 (ipykernel)",
   "language": "python",
   "name": "python3"
  },
  "language_info": {
   "codemirror_mode": {
    "name": "ipython",
    "version": 3
   },
   "file_extension": ".py",
   "mimetype": "text/x-python",
   "name": "python",
   "nbconvert_exporter": "python",
   "pygments_lexer": "ipython3",
   "version": "3.11.4"
  }
 },
 "nbformat": 4,
 "nbformat_minor": 5
}
