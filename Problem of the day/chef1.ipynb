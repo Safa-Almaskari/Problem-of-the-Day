{
 "cells": [
  {
   "cell_type": "code",
   "execution_count": null,
   "id": "af3366eb",
   "metadata": {},
   "outputs": [],
   "source": [
    "'''\n",
    "Chef has recently started playing chess, and wants to play as many games as possible.\n",
    "He calculated that playing one game of chess takes at least \n",
    "20\n",
    "20 minutes of his time.\n",
    "\n",
    "Chef has \n",
    "N\n",
    "N hours of free time. What is the maximum number of complete chess games he can play in that time?\n",
    "\n",
    "Explanation:\n",
    "Test case \n",
    "1\n",
    "1: If every game Chef plays takes \n",
    "20\n",
    "20 minutes, he can play \n",
    "3\n",
    "3 games in one hour.\n",
    "Test case \n",
    "2\n",
    "2: If every game Chef plays takes \n",
    "20\n",
    "20 minutes, he can play \n",
    "30\n",
    "30 games in \n",
    "10\n",
    "10 hours.\n",
    "\n",
    "Test case \n",
    "3\n",
    "3: If every game Chef plays takes \n",
    "20\n",
    "20 minutes, he can play \n",
    "21\n",
    "21 games in \n",
    "7\n",
    "7 hours.\n",
    "\n",
    "Test case \n",
    "4\n",
    "4: If every game Chef plays takes \n",
    "20\n",
    "20 minutes, he can play \n",
    "9\n",
    "9 games in \n",
    "3\n",
    "3 hours.\n",
    "'''"
   ]
  },
  {
   "cell_type": "code",
   "execution_count": 1,
   "id": "41c10fa6",
   "metadata": {},
   "outputs": [
    {
     "name": "stdout",
     "output_type": "stream",
     "text": [
      "Test case: 1 hours of free time\n",
      "Chef can play 3 complete chess games\n",
      "\n",
      "Test case: 10 hours of free time\n",
      "Chef can play 30 complete chess games\n",
      "\n",
      "Test case: 7 hours of free time\n",
      "Chef can play 21 complete chess games\n",
      "\n",
      "Test case: 3 hours of free time\n",
      "Chef can play 9 complete chess games\n",
      "\n"
     ]
    }
   ],
   "source": [
    "def chess(N):\n",
    "    time_per_game = 20  \n",
    "    total_time_in_minutes = N * 60  # convertion: from hours to minutes\n",
    "    maxgames = total_time_in_minutes // time_per_game\n",
    "    return maxgames\n",
    "\n",
    "# Test cases\n",
    "test_cases = [1, 10, 7, 3]\n",
    "\n",
    "for i in test_cases:\n",
    "    games = chess(i)\n",
    "    print(f\"Test case: {i} hours of free time\")\n",
    "    print(f\"Chef can play {games} complete chess games\")\n",
    "    print()"
   ]
  }
 ],
 "metadata": {
  "kernelspec": {
   "display_name": "Python 3 (ipykernel)",
   "language": "python",
   "name": "python3"
  },
  "language_info": {
   "codemirror_mode": {
    "name": "ipython",
    "version": 3
   },
   "file_extension": ".py",
   "mimetype": "text/x-python",
   "name": "python",
   "nbconvert_exporter": "python",
   "pygments_lexer": "ipython3",
   "version": "3.11.4"
  }
 },
 "nbformat": 4,
 "nbformat_minor": 5
}
