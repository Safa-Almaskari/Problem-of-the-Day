{
 "cells": [
  {
   "cell_type": "code",
   "execution_count": null,
   "id": "cbb5b282",
   "metadata": {},
   "outputs": [],
   "source": [
    "#Given a linked list and a number K. \n",
    "#you have to reverse fist part of linked list \n",
    "#with K nodes and the second Part with n-K nodes"
   ]
  }
 ],
 "metadata": {
  "kernelspec": {
   "display_name": "Python 3 (ipykernel)",
   "language": "python",
   "name": "python3"
  },
  "language_info": {
   "codemirror_mode": {
    "name": "ipython",
    "version": 3
   },
   "file_extension": ".py",
   "mimetype": "text/x-python",
   "name": "python",
   "nbconvert_exporter": "python",
   "pygments_lexer": "ipython3",
   "version": "3.11.4"
  }
 },
 "nbformat": 4,
 "nbformat_minor": 5
}
