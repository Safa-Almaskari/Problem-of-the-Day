{
 "cells": [
  {
   "cell_type": "code",
   "execution_count": null,
   "id": "3b72e82e",
   "metadata": {},
   "outputs": [],
   "source": [
    "'''\n",
    "there is one meeting room in a firm.\n",
    "There are N meetings in the form of (Start[i], end[i])\n",
    "where start[i] is start time of meeting i and end[i] is\n",
    "finish time of meeting i.\n",
    "what is the maximum number of meetings that can be accommodated\n",
    "in the meeting room when only one meeting can be held in the meeting room]\n",
    "at a particular time?\n",
    "note:\n",
    "Start time of one chosen meeting can't be equal to the end time of the other\n",
    "chosen meeting\n",
    "input: \n",
    "N =6\n",
    "start[]={1,3,0,5,8,5}\n",
    "end[]={2,4,6,7,9,9}\n",
    "output:\n",
    "4\n",
    "Explaination:\n",
    "maximum 4 meetings can be held with given start and \n",
    "timings the meeting are (1,2), (3,4),(5,7),(8,9)\n",
    "'''"
   ]
  },
  {
   "cell_type": "code",
   "execution_count": 2,
   "id": "ed1718a0",
   "metadata": {},
   "outputs": [
    {
     "name": "stdout",
     "output_type": "stream",
     "text": [
      "the results is  4\n"
     ]
    }
   ],
   "source": [
    "def maximum_meetings(N, start, end):\n",
    "    meetings = list(zip(start, end))\n",
    "    meetings.sort(key=lambda x: x[1])  # Sort meetings by their end times\n",
    "    \n",
    "    selected_meetings = [meetings[0]]\n",
    "    last_end_time = meetings[0][1]\n",
    "    \n",
    "    for i in range(1, N):\n",
    "        if meetings[i][0] > last_end_time:\n",
    "            selected_meetings.append(meetings[i])\n",
    "            last_end_time = meetings[i][1]\n",
    "    \n",
    "    return len(selected_meetings)\n",
    "\n",
    "N = 6\n",
    "start = [1, 3, 0, 5, 8, 5]\n",
    "end = [2, 4, 6, 7, 9, 9]\n",
    "\n",
    "result = maximum_meetings(N, start, end)\n",
    "print('the results is ', result)"
   ]
  }
 ],
 "metadata": {
  "kernelspec": {
   "display_name": "Python 3 (ipykernel)",
   "language": "python",
   "name": "python3"
  },
  "language_info": {
   "codemirror_mode": {
    "name": "ipython",
    "version": 3
   },
   "file_extension": ".py",
   "mimetype": "text/x-python",
   "name": "python",
   "nbconvert_exporter": "python",
   "pygments_lexer": "ipython3",
   "version": "3.11.4"
  }
 },
 "nbformat": 4,
 "nbformat_minor": 5
}
