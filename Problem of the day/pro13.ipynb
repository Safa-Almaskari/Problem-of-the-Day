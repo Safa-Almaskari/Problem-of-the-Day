{
 "cells": [
  {
   "cell_type": "code",
   "execution_count": null,
   "id": "ff47180e",
   "metadata": {},
   "outputs": [],
   "source": [
    "'''\n",
    "Given a set of integers find all distinct sums \n",
    "that can be generated from the subsets of the given set\n",
    "input: nums={1,2}\n",
    "output: {0,1,2,3}\n",
    "'''"
   ]
  },
  {
   "cell_type": "code",
   "execution_count": 3,
   "id": "49f62374",
   "metadata": {},
   "outputs": [
    {
     "name": "stdout",
     "output_type": "stream",
     "text": [
      "The sum are:  [0, 1, 2, 3]\n"
     ]
    }
   ],
   "source": [
    "def subset(nums):\n",
    "    sums = [0]\n",
    "    \n",
    "    for i in nums:\n",
    "        sums.extend([subset_sum + i for subset_sum in sums])\n",
    "    \n",
    "    return sorted(sums)\n",
    "\n",
    "\n",
    "nums = {1, 2}\n",
    "result = subset(nums)\n",
    "print('The sum are: ', result)  "
   ]
  }
 ],
 "metadata": {
  "kernelspec": {
   "display_name": "Python 3 (ipykernel)",
   "language": "python",
   "name": "python3"
  },
  "language_info": {
   "codemirror_mode": {
    "name": "ipython",
    "version": 3
   },
   "file_extension": ".py",
   "mimetype": "text/x-python",
   "name": "python",
   "nbconvert_exporter": "python",
   "pygments_lexer": "ipython3",
   "version": "3.11.4"
  }
 },
 "nbformat": 4,
 "nbformat_minor": 5
}
