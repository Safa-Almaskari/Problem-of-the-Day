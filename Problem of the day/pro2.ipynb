{
 "cells": [
  {
   "cell_type": "code",
   "execution_count": 1,
   "id": "e695cecb",
   "metadata": {},
   "outputs": [],
   "source": [
    "#the user should enter an array of numbers and you are giving the numbers\n",
    "#and you are giving the number , one of the two numbers \n",
    "#that equals the sum of the given number"
   ]
  },
  {
   "cell_type": "code",
   "execution_count": 6,
   "id": "f7c96211",
   "metadata": {},
   "outputs": [
    {
     "name": "stdout",
     "output_type": "stream",
     "text": [
      "Enter array of numbers: 1 2 3 4\n",
      "Enter any number: 3\n",
      "The numbers are: 1 and 2 plus: 3\n"
     ]
    }
   ],
   "source": [
    "# Take input from the user for the array\n",
    "arr = input(\"Enter array of numbers: \")\n",
    "num = [int(x) for x in arr.split()]\n",
    "\n",
    "\n",
    "x = int(input(\"Enter any number: \"))\n",
    "\n",
    "f = False\n",
    "\n",
    "\n",
    "for i in range(len(num)):\n",
    "    for j in range(i + 1, len(num)):\n",
    "        if num[i] + num[j] == x:\n",
    "            print(f\"The numbers are: {num[i]} and {num[j]} plus: {x}\")\n",
    "            f = True\n",
    "            break\n",
    "\n",
    "if not f:\n",
    "    print(f\"No two numbers in the array add up to {x}\")"
   ]
  },
  {
   "cell_type": "code",
   "execution_count": null,
   "id": "3ae57f17",
   "metadata": {},
   "outputs": [],
   "source": []
  }
 ],
 "metadata": {
  "kernelspec": {
   "display_name": "Python 3 (ipykernel)",
   "language": "python",
   "name": "python3"
  },
  "language_info": {
   "codemirror_mode": {
    "name": "ipython",
    "version": 3
   },
   "file_extension": ".py",
   "mimetype": "text/x-python",
   "name": "python",
   "nbconvert_exporter": "python",
   "pygments_lexer": "ipython3",
   "version": "3.11.4"
  }
 },
 "nbformat": 4,
 "nbformat_minor": 5
}
