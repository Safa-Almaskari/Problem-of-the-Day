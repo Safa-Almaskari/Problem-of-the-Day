{
 "cells": [
  {
   "cell_type": "code",
   "execution_count": null,
   "id": "1552939f",
   "metadata": {},
   "outputs": [],
   "source": [
    "#chef and chefina are playing with dice in one turn\n",
    "#both of them roll their dice at once they concider a turn to be good \n",
    "#if the sum of the numbers on their dice is greater than 6\n",
    "#given that in a particular turn cheif and chefine got x and y\n",
    "#on their respective dice,\n",
    "#find whether the turn was good"
   ]
  },
  {
   "cell_type": "code",
   "execution_count": 1,
   "id": "d42ccd2e",
   "metadata": {},
   "outputs": [
    {
     "name": "stdout",
     "output_type": "stream",
     "text": [
      "Enter Chef's dice: 5\n",
      "Enter Chefina's dice: 4\n",
      "Great turn\n"
     ]
    }
   ],
   "source": [
    "x = int(input(\"Enter Chef's dice: \"))\n",
    "y = int(input(\"Enter Chefina's dice: \"))\n",
    "\n",
    "if x + y > 6:\n",
    "    print(\"Great turn\")\n",
    "else:\n",
    "    print(\"Bad turn\")"
   ]
  }
 ],
 "metadata": {
  "kernelspec": {
   "display_name": "Python 3 (ipykernel)",
   "language": "python",
   "name": "python3"
  },
  "language_info": {
   "codemirror_mode": {
    "name": "ipython",
    "version": 3
   },
   "file_extension": ".py",
   "mimetype": "text/x-python",
   "name": "python",
   "nbconvert_exporter": "python",
   "pygments_lexer": "ipython3",
   "version": "3.11.4"
  }
 },
 "nbformat": 4,
 "nbformat_minor": 5
}
