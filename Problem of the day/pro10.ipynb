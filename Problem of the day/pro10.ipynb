{
 "cells": [
  {
   "cell_type": "code",
   "execution_count": null,
   "id": "94887adf",
   "metadata": {},
   "outputs": [],
   "source": [
    "#Given an array A of positive integers. \n",
    "#your task is to find the leader in the array. \n",
    "#An element of array is leader if it is greater than or equal to\n",
    "#all the elements to its right side. The right most element is always a leader.\n",
    "#Input: n=6 A[]={16,17,4,3,5,2} \n",
    "#output:{17,5,2}"
   ]
  },
  {
   "cell_type": "code",
   "execution_count": null,
   "id": "6dc7e407",
   "metadata": {},
   "outputs": [],
   "source": []
  }
 ],
 "metadata": {
  "kernelspec": {
   "display_name": "Python 3 (ipykernel)",
   "language": "python",
   "name": "python3"
  },
  "language_info": {
   "codemirror_mode": {
    "name": "ipython",
    "version": 3
   },
   "file_extension": ".py",
   "mimetype": "text/x-python",
   "name": "python",
   "nbconvert_exporter": "python",
   "pygments_lexer": "ipython3",
   "version": "3.11.4"
  }
 },
 "nbformat": 4,
 "nbformat_minor": 5
}
