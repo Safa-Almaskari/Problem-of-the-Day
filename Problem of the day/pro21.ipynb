{
 "cells": [
  {
   "cell_type": "code",
   "execution_count": null,
   "id": "ffe3fe16",
   "metadata": {},
   "outputs": [],
   "source": [
    "'''\n",
    "Given an array arr[] of N non-negative integers representing the height of blocks. If width of each block is 1, compute how much water can be trapped between the blocks during the rainy \n",
    "season\n",
    "\n",
    "Input:\n",
    "N = 6\n",
    "arr[] = {3,0,0,2,0,4}\n",
    "Output:\n",
    "10\n",
    "'''"
   ]
  },
  {
   "cell_type": "code",
   "execution_count": 2,
   "id": "b8a3f05b",
   "metadata": {},
   "outputs": [
    {
     "name": "stdout",
     "output_type": "stream",
     "text": [
      "the output is:  10\n"
     ]
    }
   ],
   "source": [
    "def trap(height):\n",
    "    n = len(height)\n",
    "    left_max, right_max = [0] * n, [0] * n\n",
    "    trapped_water = 0\n",
    "\n",
    "    left_max[0] = height[0]\n",
    "    for i in range(1, n):\n",
    "        left_max[i] = max(left_max[i - 1], height[i])\n",
    "\n",
    "    right_max[n - 1] = height[n - 1]\n",
    "    for i in range(n - 2, -1, -1):\n",
    "        right_max[i] = max(right_max[i + 1], height[i])\n",
    "\n",
    "    for i in range(n):\n",
    "        trapped_water += min(left_max[i], right_max[i]) - height[i]\n",
    "\n",
    "    return trapped_water\n",
    "\n",
    "# Example input\n",
    "arr = [3, 0, 0, 2, 0, 4]\n",
    "result = trap(arr)\n",
    "print('the output is: ',result)  # Output: 10"
   ]
  }
 ],
 "metadata": {
  "kernelspec": {
   "display_name": "Python 3 (ipykernel)",
   "language": "python",
   "name": "python3"
  },
  "language_info": {
   "codemirror_mode": {
    "name": "ipython",
    "version": 3
   },
   "file_extension": ".py",
   "mimetype": "text/x-python",
   "name": "python",
   "nbconvert_exporter": "python",
   "pygments_lexer": "ipython3",
   "version": "3.11.4"
  }
 },
 "nbformat": 4,
 "nbformat_minor": 5
}
