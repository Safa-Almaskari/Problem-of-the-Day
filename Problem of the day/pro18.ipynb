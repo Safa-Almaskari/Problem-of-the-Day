{
 "cells": [
  {
   "cell_type": "code",
   "execution_count": null,
   "id": "4014ded4",
   "metadata": {},
   "outputs": [],
   "source": [
    "'''\n",
    "given a non-negative integer N.\n",
    "the task is to check if N is a power of 2.\n",
    "more formally, check if N can be expressed as 2^x for some integer x\n",
    "input:\n",
    "N = 8\n",
    "output:\n",
    "yes\n",
    "'''"
   ]
  },
  {
   "cell_type": "code",
   "execution_count": 1,
   "id": "f29777dd",
   "metadata": {},
   "outputs": [
    {
     "name": "stdout",
     "output_type": "stream",
     "text": [
      "yes\n"
     ]
    }
   ],
   "source": [
    "def power(N):\n",
    "    if N <= 0:\n",
    "        return False\n",
    "\n",
    "    # If N is a power of 2, it will have only one set bit\n",
    "    return (N & (N - 1)) == 0\n",
    "\n",
    "N = 8\n",
    "result = power(N)\n",
    "\n",
    "if result:\n",
    "    print(\"yes\")\n",
    "else:\n",
    "    print(\"no\")"
   ]
  }
 ],
 "metadata": {
  "kernelspec": {
   "display_name": "Python 3 (ipykernel)",
   "language": "python",
   "name": "python3"
  },
  "language_info": {
   "codemirror_mode": {
    "name": "ipython",
    "version": 3
   },
   "file_extension": ".py",
   "mimetype": "text/x-python",
   "name": "python",
   "nbconvert_exporter": "python",
   "pygments_lexer": "ipython3",
   "version": "3.11.4"
  }
 },
 "nbformat": 4,
 "nbformat_minor": 5
}
