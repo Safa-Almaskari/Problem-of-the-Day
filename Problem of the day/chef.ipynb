{
 "cells": [
  {
   "cell_type": "code",
   "execution_count": null,
   "id": "6ad44ddc",
   "metadata": {},
   "outputs": [],
   "source": [
    "\"\"\"\n",
    "Chef has recently moved into an apartment. It takes 30\n",
    "30 minutes for Chef to reach office from the apartment.\n",
    "Chef left for the office \n",
    "X minutes before Chef was supposed to reach. Determine whether or not Chef will be able to reach on time.\n",
    "\n",
    "Explanation:\n",
    "Test case 1: Chef leaves \n",
    "30 minutes before he is supposed to reach, so he will reach the office exactly on time since it takes \n",
    "30 minutes to commute.\n",
    "Test case 2: Chef will reach \n",
    "30 minutes early.\n",
    "\n",
    "Test case 3: Chef will reach 16 minutes late\n",
    "\"\"\""
   ]
  },
  {
   "cell_type": "code",
   "execution_count": 4,
   "id": "15853362",
   "metadata": {},
   "outputs": [
    {
     "name": "stdout",
     "output_type": "stream",
     "text": [
      "Test case: Travel time = 30 minutes, Time before reaching = 30 minutes\n",
      "Chef will be On time\n",
      "\n",
      "Test case: Travel time = 30 minutes, Time before reaching = 60 minutes\n",
      "Chef will be 16 minutes late\n",
      "\n",
      "Test case: Travel time = 30 minutes, Time before reaching = 16 minutes\n",
      "Chef will be 30 minutes early\n",
      "\n"
     ]
    }
   ],
   "source": [
    "def chefArrives(travel_time, time_before_reaching):\n",
    "    if travel_time == time_before_reaching:\n",
    "        return \"On time\"\n",
    "    elif travel_time > time_before_reaching:\n",
    "        return \"30 minutes early\"\n",
    "    else:\n",
    "        return \"16 minutes late\"\n",
    "\n",
    "# Test cases\n",
    "test_cases = [\n",
    "    # when Chef leaves exactly on time\n",
    "    (30, 30),  \n",
    "    # when Chef leaves 30 minutes early\n",
    "    (30, 60),  \n",
    "    # when Chef leaves 16 minutes late\n",
    "    (30, 16),  \n",
    "]\n",
    "\n",
    "for travel_time, time_before_reaching in test_cases:\n",
    "    result = chefArrives(travel_time, time_before_reaching)\n",
    "    print(f\"Test case: Travel time = {travel_time} minutes, Time before reaching = {time_before_reaching} minutes\")\n",
    "    print(f\"Chef will be {result}\")\n",
    "    print()"
   ]
  }
 ],
 "metadata": {
  "kernelspec": {
   "display_name": "Python 3 (ipykernel)",
   "language": "python",
   "name": "python3"
  },
  "language_info": {
   "codemirror_mode": {
    "name": "ipython",
    "version": 3
   },
   "file_extension": ".py",
   "mimetype": "text/x-python",
   "name": "python",
   "nbconvert_exporter": "python",
   "pygments_lexer": "ipython3",
   "version": "3.11.4"
  }
 },
 "nbformat": 4,
 "nbformat_minor": 5
}
