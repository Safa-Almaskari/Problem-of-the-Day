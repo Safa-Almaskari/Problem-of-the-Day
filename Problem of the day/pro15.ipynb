{
 "cells": [
  {
   "cell_type": "code",
   "execution_count": null,
   "id": "7f39f8d8",
   "metadata": {},
   "outputs": [],
   "source": [
    "'''\n",
    "given a string s representing a postfix expressions the task is to evalute\n",
    "the expression and find the final value.\n",
    "operators will only include the basic arithmetic operators \n",
    "like +, ', * and -\n",
    "input:\n",
    "S = \"231*+9-\"\n",
    "output:\n",
    "-4\n",
    "\n",
    "'''"
   ]
  },
  {
   "cell_type": "code",
   "execution_count": 8,
   "id": "d37042fb",
   "metadata": {},
   "outputs": [
    {
     "name": "stdout",
     "output_type": "stream",
     "text": [
      "the given experssion results are:  -4\n"
     ]
    }
   ],
   "source": [
    "def postfix_expression(S):\n",
    "    stack = []\n",
    "    \n",
    "    for exper in S:\n",
    "        if exper.isdigit():\n",
    "            stack.append(int(exper))\n",
    "        else:\n",
    "            operand2 = stack.pop()\n",
    "            operand1 = stack.pop()\n",
    "            if exper == '+':\n",
    "                result = operand1 + operand2\n",
    "            elif exper == '-':\n",
    "                result = operand1 - operand2\n",
    "            elif exper == '*':\n",
    "                result = operand1 * operand2\n",
    "            elif exper == '/':\n",
    "                result = operand1 / operand2 \n",
    "            stack.append(result)\n",
    "    \n",
    "    return stack[0]\n",
    "\n",
    "S = \"231*+9-\"\n",
    "result = postfix_expression(S)\n",
    "print('the given experssion results are: ', result)"
   ]
  },
  {
   "cell_type": "code",
   "execution_count": null,
   "id": "a1397a66",
   "metadata": {},
   "outputs": [],
   "source": []
  }
 ],
 "metadata": {
  "kernelspec": {
   "display_name": "Python 3 (ipykernel)",
   "language": "python",
   "name": "python3"
  },
  "language_info": {
   "codemirror_mode": {
    "name": "ipython",
    "version": 3
   },
   "file_extension": ".py",
   "mimetype": "text/x-python",
   "name": "python",
   "nbconvert_exporter": "python",
   "pygments_lexer": "ipython3",
   "version": "3.11.4"
  }
 },
 "nbformat": 4,
 "nbformat_minor": 5
}
