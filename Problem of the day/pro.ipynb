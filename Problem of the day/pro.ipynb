{
 "cells": [
  {
   "cell_type": "code",
   "execution_count": null,
   "id": "a7c30ceb",
   "metadata": {},
   "outputs": [],
   "source": [
    "#Write a program that can compare three numbers \n",
    "#and get the largest number\n",
    "#the user should enter the numbers"
   ]
  },
  {
   "cell_type": "code",
   "execution_count": 5,
   "id": "a204fdd1",
   "metadata": {},
   "outputs": [
    {
     "name": "stdout",
     "output_type": "stream",
     "text": [
      "Please Enter your first number: 7\n",
      "Please Enter your second number: 8\n",
      "Please Enter your third number: 9\n",
      "The largest number is:  9\n"
     ]
    }
   ],
   "source": [
    "x=int(input('Please Enter your first number: '))\n",
    "y=int(input('Please Enter your second number: '))\n",
    "z=int(input('Please Enter your third number: '))\n",
    "\n",
    "if x >= y and x >= z:\n",
    "    largestNumber = x\n",
    "elif y >= x and y >= z:\n",
    "    largestNumber = y\n",
    "else:\n",
    "    largestNumber = z\n",
    "    print('The largest number is: ', largestNumber )"
   ]
  }
 ],
 "metadata": {
  "kernelspec": {
   "display_name": "Python 3 (ipykernel)",
   "language": "python",
   "name": "python3"
  },
  "language_info": {
   "codemirror_mode": {
    "name": "ipython",
    "version": 3
   },
   "file_extension": ".py",
   "mimetype": "text/x-python",
   "name": "python",
   "nbconvert_exporter": "python",
   "pygments_lexer": "ipython3",
   "version": "3.11.4"
  }
 },
 "nbformat": 4,
 "nbformat_minor": 5
}
