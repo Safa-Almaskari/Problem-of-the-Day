{
 "cells": [
  {
   "cell_type": "code",
   "execution_count": null,
   "id": "403f012a",
   "metadata": {},
   "outputs": [],
   "source": [
    "'''\n",
    "Given a string S find the longest palindromic substring in S.\n",
    "Substring of string S:S[i..j] where 0<= i <= j < len(s) Palindrome string.\n",
    "A string that reads the same backward. More formally, S is palindrome \n",
    "if reverse (s)= s.ln case of conflid return the substring \n",
    "which occurs first (with the least starting index)\n",
    "\n",
    "'''"
   ]
  },
  {
   "cell_type": "code",
   "execution_count": 2,
   "id": "84722d20",
   "metadata": {},
   "outputs": [
    {
     "name": "stdout",
     "output_type": "stream",
     "text": [
      "The longest palindrome is:  bab\n"
     ]
    }
   ],
   "source": [
    "def palindrome(s):\n",
    "    return s == s[::-1]\n",
    "\n",
    "def longest_substring(s):\n",
    "    n = len(s)\n",
    "    longest = \"\"\n",
    "\n",
    "    for i in range(n):\n",
    "        for j in range(i, n):\n",
    "            substring = s[i:j+1]\n",
    "            if palindrome(substring) and len(substring) > len(longest):\n",
    "                longest = substring\n",
    "\n",
    "    return longest\n",
    "\n",
    "# Example usage\n",
    "S = \"babad\"\n",
    "result = longest_substring(S)\n",
    "print('The longest palindrome is: ',result)  "
   ]
  },
  {
   "cell_type": "code",
   "execution_count": null,
   "id": "ba6cef07",
   "metadata": {},
   "outputs": [],
   "source": []
  }
 ],
 "metadata": {
  "kernelspec": {
   "display_name": "Python 3 (ipykernel)",
   "language": "python",
   "name": "python3"
  },
  "language_info": {
   "codemirror_mode": {
    "name": "ipython",
    "version": 3
   },
   "file_extension": ".py",
   "mimetype": "text/x-python",
   "name": "python",
   "nbconvert_exporter": "python",
   "pygments_lexer": "ipython3",
   "version": "3.11.4"
  }
 },
 "nbformat": 4,
 "nbformat_minor": 5
}
