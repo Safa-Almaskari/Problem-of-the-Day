{
 "cells": [
  {
   "cell_type": "code",
   "execution_count": null,
   "id": "37add449",
   "metadata": {},
   "outputs": [],
   "source": [
    "'''\n",
    "Input: (white space)\n",
    "height=[0,1,0,2,1,0,1,3,2,1,2,1]\n",
    "height=[4,2,0,3,2,5]\n",
    "output: (Blue units)\n",
    "6\n",
    "9\n",
    "'''"
   ]
  },
  {
   "cell_type": "code",
   "execution_count": 2,
   "id": "930d874c",
   "metadata": {},
   "outputs": [
    {
     "name": "stdout",
     "output_type": "stream",
     "text": [
      "output for 6:  6\n",
      "output for 9 9\n"
     ]
    }
   ],
   "source": [
    "def trap(height):\n",
    "    left, right = 0, len(height) - 1\n",
    "    left_max, right_max = 0, 0\n",
    "    trapped_water = 0\n",
    "\n",
    "    while left < right:\n",
    "        if height[left] < height[right]:\n",
    "            if height[left] >= left_max:\n",
    "                left_max = height[left]\n",
    "            else:\n",
    "                trapped_water += left_max - height[left]\n",
    "            left += 1\n",
    "        else:\n",
    "            if height[right] >= right_max:\n",
    "                right_max = height[right]\n",
    "            else:\n",
    "                trapped_water += right_max - height[right]\n",
    "            right -= 1\n",
    "\n",
    "    return trapped_water\n",
    "\n",
    "height1 = [0, 1, 0, 2, 1, 0, 1, 3, 2, 1, 2, 1]\n",
    "height2 = [4, 2, 0, 3, 2, 5]\n",
    "\n",
    "result1 = trap(height1)\n",
    "result2 = trap(height2)\n",
    "\n",
    "print('output for 6: ',result1)  # Output: 6\n",
    "print('output for 9',result2)  # Output: 9"
   ]
  }
 ],
 "metadata": {
  "kernelspec": {
   "display_name": "Python 3 (ipykernel)",
   "language": "python",
   "name": "python3"
  },
  "language_info": {
   "codemirror_mode": {
    "name": "ipython",
    "version": 3
   },
   "file_extension": ".py",
   "mimetype": "text/x-python",
   "name": "python",
   "nbconvert_exporter": "python",
   "pygments_lexer": "ipython3",
   "version": "3.11.4"
  }
 },
 "nbformat": 4,
 "nbformat_minor": 5
}
